{
 "cells": [
  {
   "cell_type": "markdown",
   "metadata": {},
   "source": [
    "# STAT3612 Group Project"
   ]
  },
  {
   "cell_type": "markdown",
   "metadata": {},
   "source": [
    "The theme of this semester is interpretable machine learning (IML) with applications to a real datacase study.\n",
    "\n",
    "For an IML model, both **prediction accuracy and model explainability are equally important**. \n",
    "You will need to take both objectives into account when building models in this project.\n",
    "\n",
    "The data includes about 10,400 anonymized Home Equity Line of Credit (HELOC) loans,together with 23 attributes. \n",
    "\n",
    "Note that in the second Excel file the monotonicity constraints are included in the data dictionary, which are based on the prior knowledge about the feature-target effect. \n",
    "\n",
    "**Build your IML models based only on the training data**.  \n",
    "There is no restriction in the choice of feature engineering techniques or machine learning algorithms. \n",
    "\n",
    "The final model evaluations will be based on three aspects:\n",
    "1.  Prediction accuracy as tested on the remaining 20% dataset\n",
    "2.  Global interpretability about the model effects\n",
    "3.  Local interpretability about individual predictions (Good/Bad cases from testing data)."
   ]
  },
  {
   "cell_type": "markdown",
   "metadata": {},
   "source": [
    "## Importing Libraries"
   ]
  },
  {
   "cell_type": "code",
   "execution_count": 3,
   "metadata": {},
   "outputs": [],
   "source": [
    "import pandas as pd\n",
    "import numpy as np\n",
    "import matplotlib.pyplot as plt\n",
    "\n",
    "from sklearn.metrics import accuracy_score, classification_report, confusion_matrix, roc_curve, roc_auc_score\n",
    "from sklearn.model_selection import train_test_split, KFold\n",
    "\n",
    "# models\n",
    "from sklearn.linear_model import LogisticRegression\n",
    "from sklearn.tree import DecisionTreeClassifier\n",
    "from sklearn.ensemble import RandomForestClassifier\n",
    "import xgboost as xgb\n"
   ]
  },
  {
   "cell_type": "markdown",
   "metadata": {},
   "source": [
    "## Reading datasets"
   ]
  },
  {
   "cell_type": "code",
   "execution_count": 26,
   "metadata": {},
   "outputs": [],
   "source": [
    "pd.set_option('display.max_colwidth', -1) # show complete variable names\n",
    "heloc = pd.read_csv('HelocData.csv')\n",
    "dataDict = pd.read_excel('HelocDataDict2.xlsx')\n",
    "dataDict['Description'] = dataDict['Description'].apply(\n",
    "    lambda x: x.split('.')[0] if '.' in x else x)[1:]# Only extract the first sentence"
   ]
  },
  {
   "cell_type": "code",
   "execution_count": 27,
   "metadata": {},
   "outputs": [],
   "source": [
    "# impute the missing values with the mean of each column \n",
    "x_cols = heloc.columns.tolist()[1:] # list of x_i \n",
    "heloc[x_cols] = heloc[x_cols][heloc[x_cols] >= 0].fillna(heloc[x_cols].mean())"
   ]
  },
  {
   "cell_type": "code",
   "execution_count": 28,
   "metadata": {},
   "outputs": [],
   "source": [
    "GID = 20190006 # group Id\n",
    "np.random.seed(GID) # set GID as random seed\n",
    "\n",
    "# create binary 0/1 'good/bad' variable in dataframe\n",
    "y = heloc['RiskFlag'].map({'Good':0, 'Bad':1})\n",
    "X = heloc.drop('RiskFlag', axis=1)\n",
    "X_train, X_test, y_train, y_test = train_test_split(X, y, test_size=0.2, random_state=GID) # 80/20 train/test split"
   ]
  },
  {
   "cell_type": "markdown",
   "metadata": {},
   "source": [
    "preprocessing finished"
   ]
  },
  {
   "cell_type": "markdown",
   "metadata": {},
   "source": [
    "---"
   ]
  },
  {
   "cell_type": "markdown",
   "metadata": {},
   "source": [
    "## EDA and feature engineering"
   ]
  },
  {
   "cell_type": "code",
   "execution_count": null,
   "metadata": {},
   "outputs": [],
   "source": [
    "''' \n",
    "fig = plt.figure(figsize=(15,20))\n",
    "for i in range(1,len(x_cols)+1):\n",
    "    plt.subplot(6,4,i)\n",
    "    sns.boxplot( X_train[x_cols[i-1]], heloc.RiskFlag, )\n",
    "plt.tight_layout()\n",
    "plt.show()\n",
    "'''"
   ]
  },
  {
   "cell_type": "markdown",
   "metadata": {},
   "source": [
    "**NOTE**\n",
    "10. Max Delq/Public Records Last 12 Months: Values 0-7 are monotonically decreasing (step function)\n",
    "11. Max Delinquency Ever: Values 2-8 are monotonically decreasing (step function)"
   ]
  },
  {
   "cell_type": "code",
   "execution_count": null,
   "metadata": {},
   "outputs": [],
   "source": []
  }
 ],
 "metadata": {
  "kernelspec": {
   "display_name": "Python 3",
   "language": "python",
   "name": "python3"
  },
  "language_info": {
   "codemirror_mode": {
    "name": "ipython",
    "version": 3
   },
   "file_extension": ".py",
   "mimetype": "text/x-python",
   "name": "python",
   "nbconvert_exporter": "python",
   "pygments_lexer": "ipython3",
   "version": "3.7.5"
  }
 },
 "nbformat": 4,
 "nbformat_minor": 2
}

